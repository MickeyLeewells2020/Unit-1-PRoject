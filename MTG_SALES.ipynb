{
  "nbformat": 4,
  "nbformat_minor": 0,
  "metadata": {
    "colab": {
      "name": "MTG SALES",
      "provenance": [],
      "authorship_tag": "ABX9TyM5yfswQtiGBwpze9F3moiO",
      "include_colab_link": true
    },
    "kernelspec": {
      "name": "python3",
      "display_name": "Python 3"
    }
  },
  "cells": [
    {
      "cell_type": "markdown",
      "metadata": {
        "id": "view-in-github",
        "colab_type": "text"
      },
      "source": [
        "<a href=\"https://colab.research.google.com/github/MickeyLeewells2020/Unit-1-Project/blob/master/MTG_SALES.ipynb\" target=\"_parent\"><img src=\"https://colab.research.google.com/assets/colab-badge.svg\" alt=\"Open In Colab\"/></a>"
      ]
    },
    {
      "cell_type": "code",
      "metadata": {
        "id": "xRyvNkoYao6J",
        "colab_type": "code",
        "colab": {}
      },
      "source": [
        "import pandas as pd \n",
        "import matplotlib.pyplot as plt\n",
        "import numpy as np\n",
        "\n",
        "import scipy as py"
      ],
      "execution_count": 0,
      "outputs": []
    },
    {
      "cell_type": "code",
      "metadata": {
        "id": "EimMMCEmbOjK",
        "colab_type": "code",
        "colab": {}
      },
      "source": [
        "monthly = pd.read_excel('/content/monthly.xlsx')"
      ],
      "execution_count": 0,
      "outputs": []
    },
    {
      "cell_type": "code",
      "metadata": {
        "id": "hYIYduASyR9V",
        "colab_type": "code",
        "outputId": "e7a8ae41-cd56-42d8-ad10-9d51a121cafd",
        "colab": {
          "base_uri": "https://localhost:8080/",
          "height": 193
        }
      },
      "source": [
        "monthly"
      ],
      "execution_count": 3,
      "outputs": [
        {
          "output_type": "execute_result",
          "data": {
            "text/html": [
              "<div>\n",
              "<style scoped>\n",
              "    .dataframe tbody tr th:only-of-type {\n",
              "        vertical-align: middle;\n",
              "    }\n",
              "\n",
              "    .dataframe tbody tr th {\n",
              "        vertical-align: top;\n",
              "    }\n",
              "\n",
              "    .dataframe thead th {\n",
              "        text-align: right;\n",
              "    }\n",
              "</style>\n",
              "<table border=\"1\" class=\"dataframe\">\n",
              "  <thead>\n",
              "    <tr style=\"text-align: right;\">\n",
              "      <th></th>\n",
              "      <th>Unnamed: 0</th>\n",
              "      <th>2019-10-01 00:00:00</th>\n",
              "      <th>Unnamed: 2</th>\n",
              "      <th>2019-11-01 00:00:00</th>\n",
              "      <th>Unnamed: 4</th>\n",
              "      <th>2019-12-01 00:00:00</th>\n",
              "      <th>Unnamed: 6</th>\n",
              "      <th>2020-01-01 00:00:00</th>\n",
              "      <th>Unnamed: 8</th>\n",
              "      <th>2020-02-01 00:00:00</th>\n",
              "      <th>Unnamed: 10</th>\n",
              "      <th>2020-03-01 00:00:00</th>\n",
              "    </tr>\n",
              "  </thead>\n",
              "  <tbody>\n",
              "    <tr>\n",
              "      <th>0</th>\n",
              "      <td>Sealed MTG Product</td>\n",
              "      <td>4656.00</td>\n",
              "      <td>NaN</td>\n",
              "      <td>2108.08</td>\n",
              "      <td>NaN</td>\n",
              "      <td>2942.35</td>\n",
              "      <td>NaN</td>\n",
              "      <td>7268.84</td>\n",
              "      <td>NaN</td>\n",
              "      <td>3684.67</td>\n",
              "      <td>NaN</td>\n",
              "      <td>3989.3</td>\n",
              "    </tr>\n",
              "    <tr>\n",
              "      <th>1</th>\n",
              "      <td>MTG Singles</td>\n",
              "      <td>1440.88</td>\n",
              "      <td>NaN</td>\n",
              "      <td>1999.51</td>\n",
              "      <td>NaN</td>\n",
              "      <td>1058.21</td>\n",
              "      <td>NaN</td>\n",
              "      <td>1906.05</td>\n",
              "      <td>NaN</td>\n",
              "      <td>1593.03</td>\n",
              "      <td>NaN</td>\n",
              "      <td>1593.0</td>\n",
              "    </tr>\n",
              "    <tr>\n",
              "      <th>2</th>\n",
              "      <td>NaN</td>\n",
              "      <td>NaN</td>\n",
              "      <td>NaN</td>\n",
              "      <td>NaN</td>\n",
              "      <td>NaN</td>\n",
              "      <td>NaN</td>\n",
              "      <td>NaN</td>\n",
              "      <td>Theros beyond death released in January</td>\n",
              "      <td>NaN</td>\n",
              "      <td>NaN</td>\n",
              "      <td>NaN</td>\n",
              "      <td>NaN</td>\n",
              "    </tr>\n",
              "  </tbody>\n",
              "</table>\n",
              "</div>"
            ],
            "text/plain": [
              "           Unnamed: 0  2019-10-01 00:00:00  ...  Unnamed: 10  2020-03-01 00:00:00\n",
              "0  Sealed MTG Product              4656.00  ...          NaN               3989.3\n",
              "1         MTG Singles              1440.88  ...          NaN               1593.0\n",
              "2                 NaN                  NaN  ...          NaN                  NaN\n",
              "\n",
              "[3 rows x 12 columns]"
            ]
          },
          "metadata": {
            "tags": []
          },
          "execution_count": 3
        }
      ]
    },
    {
      "cell_type": "code",
      "metadata": {
        "id": "xJ1LjNZtdGPW",
        "colab_type": "code",
        "outputId": "9c0de6fa-b7a4-4973-8652-b9b068bd17c4",
        "colab": {
          "base_uri": "https://localhost:8080/",
          "height": 102
        }
      },
      "source": [
        "monthly.columns"
      ],
      "execution_count": 4,
      "outputs": [
        {
          "output_type": "execute_result",
          "data": {
            "text/plain": [
              "Index([       'Unnamed: 0', 2019-10-01 00:00:00,        'Unnamed: 2',\n",
              "       2019-11-01 00:00:00,        'Unnamed: 4', 2019-12-01 00:00:00,\n",
              "              'Unnamed: 6', 2020-01-01 00:00:00,        'Unnamed: 8',\n",
              "       2020-02-01 00:00:00,       'Unnamed: 10', 2020-03-01 00:00:00],\n",
              "      dtype='object')"
            ]
          },
          "metadata": {
            "tags": []
          },
          "execution_count": 4
        }
      ]
    },
    {
      "cell_type": "code",
      "metadata": {
        "id": "coX2E5AulmbS",
        "colab_type": "code",
        "colab": {}
      },
      "source": [
        "# dropping unnamed  not needed columns\n",
        "monthly_cleaned = monthly.drop(monthly.columns[[-2,-4,-6,-8,-10,-12]], axis = 1)\n",
        "monthly_cleaned = monthly_cleaned.dropna(axis=0, how='all')\n",
        "monthly_cleaned =  monthly_cleaned.drop(monthly_cleaned.T.columns[[-1]],axis=0)\n",
        "monthly_cleaned = monthly_cleaned.T\n",
        "monthly_cleaned = monthly_cleaned.rename(columns={0:'Sealed_MTG_Product',1:'MTG_Singles' })\n",
        "monthly_cleaned['MTG_Singles'] = monthly_cleaned.MTG_Singles.astype(float)\n",
        "monthly_cleaned['Sealed_MTG_Product'] = monthly_cleaned.Sealed_MTG_Product.astype(float)"
      ],
      "execution_count": 0,
      "outputs": []
    },
    {
      "cell_type": "code",
      "metadata": {
        "id": "oG_WTp6ZzC23",
        "colab_type": "code",
        "colab": {}
      },
      "source": [
        ""
      ],
      "execution_count": 0,
      "outputs": []
    },
    {
      "cell_type": "code",
      "metadata": {
        "id": "MPS1IPp8mv95",
        "colab_type": "code",
        "outputId": "0cdae09d-f388-4d04-96eb-a62b8dd095e5",
        "colab": {
          "base_uri": "https://localhost:8080/",
          "height": 68
        }
      },
      "source": [
        "monthly_cleaned.dtypes"
      ],
      "execution_count": 6,
      "outputs": [
        {
          "output_type": "execute_result",
          "data": {
            "text/plain": [
              "Sealed_MTG_Product    float64\n",
              "MTG_Singles           float64\n",
              "dtype: object"
            ]
          },
          "metadata": {
            "tags": []
          },
          "execution_count": 6
        }
      ]
    },
    {
      "cell_type": "code",
      "metadata": {
        "id": "PLqnZA24e0Or",
        "colab_type": "code",
        "colab": {
          "base_uri": "https://localhost:8080/",
          "height": 68
        },
        "outputId": "bad9d990-73ca-4170-db93-c0b59a795d7f"
      },
      "source": [
        "np.mean(monthly_cleaned)"
      ],
      "execution_count": 35,
      "outputs": [
        {
          "output_type": "execute_result",
          "data": {
            "text/plain": [
              "Sealed_MTG_Product    4108.206667\n",
              "MTG_Singles           1598.446667\n",
              "dtype: float64"
            ]
          },
          "metadata": {
            "tags": []
          },
          "execution_count": 35
        }
      ]
    },
    {
      "cell_type": "code",
      "metadata": {
        "id": "qJo9lODspqhw",
        "colab_type": "code",
        "outputId": "80351d1c-542b-4dbc-80aa-38c8c9aca985",
        "colab": {
          "base_uri": "https://localhost:8080/",
          "height": 235
        }
      },
      "source": [
        "monthly_cleaned"
      ],
      "execution_count": 7,
      "outputs": [
        {
          "output_type": "execute_result",
          "data": {
            "text/html": [
              "<div>\n",
              "<style scoped>\n",
              "    .dataframe tbody tr th:only-of-type {\n",
              "        vertical-align: middle;\n",
              "    }\n",
              "\n",
              "    .dataframe tbody tr th {\n",
              "        vertical-align: top;\n",
              "    }\n",
              "\n",
              "    .dataframe thead th {\n",
              "        text-align: right;\n",
              "    }\n",
              "</style>\n",
              "<table border=\"1\" class=\"dataframe\">\n",
              "  <thead>\n",
              "    <tr style=\"text-align: right;\">\n",
              "      <th></th>\n",
              "      <th>Sealed_MTG_Product</th>\n",
              "      <th>MTG_Singles</th>\n",
              "    </tr>\n",
              "  </thead>\n",
              "  <tbody>\n",
              "    <tr>\n",
              "      <th>2019-10-01 00:00:00</th>\n",
              "      <td>4656.00</td>\n",
              "      <td>1440.88</td>\n",
              "    </tr>\n",
              "    <tr>\n",
              "      <th>2019-11-01 00:00:00</th>\n",
              "      <td>2108.08</td>\n",
              "      <td>1999.51</td>\n",
              "    </tr>\n",
              "    <tr>\n",
              "      <th>2019-12-01 00:00:00</th>\n",
              "      <td>2942.35</td>\n",
              "      <td>1058.21</td>\n",
              "    </tr>\n",
              "    <tr>\n",
              "      <th>2020-01-01 00:00:00</th>\n",
              "      <td>7268.84</td>\n",
              "      <td>1906.05</td>\n",
              "    </tr>\n",
              "    <tr>\n",
              "      <th>2020-02-01 00:00:00</th>\n",
              "      <td>3684.67</td>\n",
              "      <td>1593.03</td>\n",
              "    </tr>\n",
              "    <tr>\n",
              "      <th>2020-03-01 00:00:00</th>\n",
              "      <td>3989.30</td>\n",
              "      <td>1593.00</td>\n",
              "    </tr>\n",
              "  </tbody>\n",
              "</table>\n",
              "</div>"
            ],
            "text/plain": [
              "                     Sealed_MTG_Product  MTG_Singles\n",
              "2019-10-01 00:00:00             4656.00      1440.88\n",
              "2019-11-01 00:00:00             2108.08      1999.51\n",
              "2019-12-01 00:00:00             2942.35      1058.21\n",
              "2020-01-01 00:00:00             7268.84      1906.05\n",
              "2020-02-01 00:00:00             3684.67      1593.03\n",
              "2020-03-01 00:00:00             3989.30      1593.00"
            ]
          },
          "metadata": {
            "tags": []
          },
          "execution_count": 7
        }
      ]
    },
    {
      "cell_type": "code",
      "metadata": {
        "id": "bYuCdmj7LXHU",
        "colab_type": "code",
        "colab": {
          "base_uri": "https://localhost:8080/",
          "height": 34
        },
        "outputId": "e0b42848-3261-4efe-9733-d0f3eec09670"
      },
      "source": [
        "mmonthly_cleaned['Sealed_MTG_Product']"
      ],
      "execution_count": 33,
      "outputs": [
        {
          "output_type": "execute_result",
          "data": {
            "text/plain": [
              "24649.24"
            ]
          },
          "metadata": {
            "tags": []
          },
          "execution_count": 33
        }
      ]
    },
    {
      "cell_type": "code",
      "metadata": {
        "id": "0V5UT8ct1qmn",
        "colab_type": "code",
        "outputId": "625315f2-ec77-4bb0-a553-21a0236648ba",
        "colab": {
          "base_uri": "https://localhost:8080/",
          "height": 68
        }
      },
      "source": [
        "monthly_cleaned.infer_objects().dtypes"
      ],
      "execution_count": 8,
      "outputs": [
        {
          "output_type": "execute_result",
          "data": {
            "text/plain": [
              "Sealed_MTG_Product    float64\n",
              "MTG_Singles           float64\n",
              "dtype: object"
            ]
          },
          "metadata": {
            "tags": []
          },
          "execution_count": 8
        }
      ]
    },
    {
      "cell_type": "code",
      "metadata": {
        "id": "eqbt0UD2Pwou",
        "colab_type": "code",
        "outputId": "fd04dbd9-557d-4638-a3ac-aa74be8eeb9d",
        "colab": {
          "base_uri": "https://localhost:8080/",
          "height": 68
        }
      },
      "source": [
        "monthly_cleaned.dtypes"
      ],
      "execution_count": 9,
      "outputs": [
        {
          "output_type": "execute_result",
          "data": {
            "text/plain": [
              "Sealed_MTG_Product    float64\n",
              "MTG_Singles           float64\n",
              "dtype: object"
            ]
          },
          "metadata": {
            "tags": []
          },
          "execution_count": 9
        }
      ]
    },
    {
      "cell_type": "code",
      "metadata": {
        "id": "3vs63GBZUBgh",
        "colab_type": "code",
        "outputId": "edde642e-605c-4878-f237-fddb3adc4e24",
        "colab": {
          "base_uri": "https://localhost:8080/",
          "height": 377
        }
      },
      "source": [
        "monthly_cleaned.plot.bar()"
      ],
      "execution_count": 10,
      "outputs": [
        {
          "output_type": "execute_result",
          "data": {
            "text/plain": [
              "<matplotlib.axes._subplots.AxesSubplot at 0x7fe4adefd780>"
            ]
          },
          "metadata": {
            "tags": []
          },
          "execution_count": 10
        },
        {
          "output_type": "display_data",
          "data": {
            "image/png": "[encoded data removed]",
            "text/plain": [
              "<Figure size 432x288 with 1 Axes>"
            ]
          },
          "metadata": {
            "tags": [],
            "needs_background": "light"
          }
        }
      ]
    },
    {
      "cell_type": "code",
      "metadata": {
        "id": "RreLYmXEBQp-",
        "colab_type": "code",
        "colab": {
          "base_uri": "https://localhost:8080/",
          "height": 280
        },
        "outputId": "dc7b7a8d-4e9e-4de4-b084-77a2f7ef2d7e"
      },
      "source": [
        "monthly_cleaned.plot()"
      ],
      "execution_count": 11,
      "outputs": [
        {
          "output_type": "execute_result",
          "data": {
            "text/plain": [
              "<matplotlib.axes._subplots.AxesSubplot at 0x7fe4ade83f28>"
            ]
          },
          "metadata": {
            "tags": []
          },
          "execution_count": 11
        },
        {
          "output_type": "display_data",
          "data": {
            "image/png": "[encoded data removed]",
            "text/plain": [
              "<Figure size 432x288 with 1 Axes>"
            ]
          },
          "metadata": {
            "tags": [],
            "needs_background": "light"
          }
        }
      ]
    },
    {
      "cell_type": "code",
      "metadata": {
        "id": "41iTuuz7YShP",
        "colab_type": "code",
        "colab": {}
      },
      "source": [
        "weekly = pd.read_excel('/content/Weekly.xlsx')"
      ],
      "execution_count": 0,
      "outputs": []
    },
    {
      "cell_type": "code",
      "metadata": {
        "id": "wNAuSddYqsog",
        "colab_type": "code",
        "colab": {
          "base_uri": "https://localhost:8080/",
          "height": 340
        },
        "outputId": "a56ab01a-a1a0-4fa3-e1c0-36dd24bd3a88"
      },
      "source": [
        "weekly"
      ],
      "execution_count": 13,
      "outputs": [
        {
          "output_type": "execute_result",
          "data": {
            "text/html": [
              "<div>\n",
              "<style scoped>\n",
              "    .dataframe tbody tr th:only-of-type {\n",
              "        vertical-align: middle;\n",
              "    }\n",
              "\n",
              "    .dataframe tbody tr th {\n",
              "        vertical-align: top;\n",
              "    }\n",
              "\n",
              "    .dataframe thead th {\n",
              "        text-align: right;\n",
              "    }\n",
              "</style>\n",
              "<table border=\"1\" class=\"dataframe\">\n",
              "  <thead>\n",
              "    <tr style=\"text-align: right;\">\n",
              "      <th></th>\n",
              "      <th>Unnamed: 0</th>\n",
              "      <th>Unnamed: 1</th>\n",
              "      <th>Unnamed: 2</th>\n",
              "      <th>Unnamed: 3</th>\n",
              "      <th>Unnamed: 4</th>\n",
              "      <th>Unnamed: 5</th>\n",
              "      <th>Unnamed: 6</th>\n",
              "      <th>Unnamed: 7</th>\n",
              "      <th>Unnamed: 8</th>\n",
              "      <th>Unnamed: 9</th>\n",
              "      <th>Unnamed: 10</th>\n",
              "      <th>Unnamed: 11</th>\n",
              "      <th>Unnamed: 12</th>\n",
              "      <th>Unnamed: 13</th>\n",
              "      <th>Unnamed: 14</th>\n",
              "      <th>Unnamed: 15</th>\n",
              "      <th>Unnamed: 16</th>\n",
              "      <th>Unnamed: 17</th>\n",
              "      <th>Unnamed: 18</th>\n",
              "      <th>Unnamed: 19</th>\n",
              "      <th>Unnamed: 20</th>\n",
              "      <th>Unnamed: 21</th>\n",
              "      <th>Unnamed: 22</th>\n",
              "      <th>Unnamed: 23</th>\n",
              "      <th>Unnamed: 24</th>\n",
              "      <th>Unnamed: 25</th>\n",
              "      <th>Unnamed: 26</th>\n",
              "      <th>Unnamed: 27</th>\n",
              "    </tr>\n",
              "  </thead>\n",
              "  <tbody>\n",
              "    <tr>\n",
              "      <th>0</th>\n",
              "      <td>NaN</td>\n",
              "      <td>NaN</td>\n",
              "      <td>NaN</td>\n",
              "      <td>NaN</td>\n",
              "      <td>NaN</td>\n",
              "      <td>NaN</td>\n",
              "      <td>NaN</td>\n",
              "      <td>NaN</td>\n",
              "      <td>NaN</td>\n",
              "      <td>NaN</td>\n",
              "      <td>NaN</td>\n",
              "      <td>NaN</td>\n",
              "      <td>NaN</td>\n",
              "      <td>NaN</td>\n",
              "      <td>NaN</td>\n",
              "      <td>NaN</td>\n",
              "      <td>NaN</td>\n",
              "      <td>NaN</td>\n",
              "      <td>NaN</td>\n",
              "      <td>NaN</td>\n",
              "      <td>NaN</td>\n",
              "      <td>NaN</td>\n",
              "      <td>NaN</td>\n",
              "      <td>NaN</td>\n",
              "      <td>NaN</td>\n",
              "      <td>NaN</td>\n",
              "      <td>NaN</td>\n",
              "      <td>NaN</td>\n",
              "    </tr>\n",
              "    <tr>\n",
              "      <th>1</th>\n",
              "      <td>NaN</td>\n",
              "      <td>NaN</td>\n",
              "      <td>NaN</td>\n",
              "      <td>NaN</td>\n",
              "      <td>NaN</td>\n",
              "      <td>NaN</td>\n",
              "      <td>NaN</td>\n",
              "      <td>NaN</td>\n",
              "      <td>NaN</td>\n",
              "      <td>NaN</td>\n",
              "      <td>NaN</td>\n",
              "      <td>NaN</td>\n",
              "      <td>NaN</td>\n",
              "      <td>NaN</td>\n",
              "      <td>NaN</td>\n",
              "      <td>NaN</td>\n",
              "      <td>NaN</td>\n",
              "      <td>NaN</td>\n",
              "      <td>NaN</td>\n",
              "      <td>NaN</td>\n",
              "      <td>NaN</td>\n",
              "      <td>NaN</td>\n",
              "      <td>NaN</td>\n",
              "      <td>NaN</td>\n",
              "      <td>NaN</td>\n",
              "      <td>NaN</td>\n",
              "      <td>NaN</td>\n",
              "      <td>NaN</td>\n",
              "    </tr>\n",
              "    <tr>\n",
              "      <th>2</th>\n",
              "      <td>NaN</td>\n",
              "      <td>NaN</td>\n",
              "      <td>NaN</td>\n",
              "      <td>NaN</td>\n",
              "      <td>NaN</td>\n",
              "      <td>NaN</td>\n",
              "      <td>NaN</td>\n",
              "      <td>NaN</td>\n",
              "      <td>NaN</td>\n",
              "      <td>NaN</td>\n",
              "      <td>NaN</td>\n",
              "      <td>NaN</td>\n",
              "      <td>NaN</td>\n",
              "      <td>NaN</td>\n",
              "      <td>NaN</td>\n",
              "      <td>NaN</td>\n",
              "      <td>NaN</td>\n",
              "      <td>NaN</td>\n",
              "      <td>NaN</td>\n",
              "      <td>NaN</td>\n",
              "      <td>NaN</td>\n",
              "      <td>NaN</td>\n",
              "      <td>NaN</td>\n",
              "      <td>NaN</td>\n",
              "      <td>NaN</td>\n",
              "      <td>NaN</td>\n",
              "      <td>NaN</td>\n",
              "      <td>NaN</td>\n",
              "    </tr>\n",
              "    <tr>\n",
              "      <th>3</th>\n",
              "      <td>Dates</td>\n",
              "      <td>9-29 to 10-5</td>\n",
              "      <td>10-6 to 10-12</td>\n",
              "      <td>10-13 to 10-19</td>\n",
              "      <td>10-20 to 10-26</td>\n",
              "      <td>10-27  to 11-2</td>\n",
              "      <td>11-3 to 11-9</td>\n",
              "      <td>11-10 to 11-16</td>\n",
              "      <td>11-17 to 11-23</td>\n",
              "      <td>11-24 to 11-30</td>\n",
              "      <td>12-1 to 12-7</td>\n",
              "      <td>12-8 to 12-14</td>\n",
              "      <td>12-15 to 12-21</td>\n",
              "      <td>12-22 to 12-28</td>\n",
              "      <td>12-29 to 1-4</td>\n",
              "      <td>1-5 to 1-11</td>\n",
              "      <td>1-12 to 1-18</td>\n",
              "      <td>1-19 to 1-25</td>\n",
              "      <td>1-26 to 2-1</td>\n",
              "      <td>2-2 to 2-8</td>\n",
              "      <td>2-9 to 2-15</td>\n",
              "      <td>2-16 to 2-22</td>\n",
              "      <td>2-23 to 2-29</td>\n",
              "      <td>3-1 to 3-7</td>\n",
              "      <td>3-8 to 3-14</td>\n",
              "      <td>3-15 to 3-21</td>\n",
              "      <td>3-22 to 3-28</td>\n",
              "      <td>3-29 to 4-4</td>\n",
              "    </tr>\n",
              "    <tr>\n",
              "      <th>4</th>\n",
              "      <td>Sealed MTG Product</td>\n",
              "      <td>2114.58</td>\n",
              "      <td>1083.02</td>\n",
              "      <td>866.18</td>\n",
              "      <td>604.7</td>\n",
              "      <td>684.53</td>\n",
              "      <td>530.15</td>\n",
              "      <td>349.78</td>\n",
              "      <td>209.3</td>\n",
              "      <td>798.38</td>\n",
              "      <td>165.08</td>\n",
              "      <td>1033.62</td>\n",
              "      <td>599.06</td>\n",
              "      <td>1122.71</td>\n",
              "      <td>549.83</td>\n",
              "      <td>824.42</td>\n",
              "      <td>3622.07</td>\n",
              "      <td>1299.45</td>\n",
              "      <td>1098.69</td>\n",
              "      <td>918.27</td>\n",
              "      <td>947.83</td>\n",
              "      <td>621.45</td>\n",
              "      <td>1093.4</td>\n",
              "      <td>620.16</td>\n",
              "      <td>1557.13</td>\n",
              "      <td>762.14</td>\n",
              "      <td>695.97</td>\n",
              "      <td>1769.58</td>\n",
              "    </tr>\n",
              "    <tr>\n",
              "      <th>5</th>\n",
              "      <td>MTG Singles</td>\n",
              "      <td>216.33</td>\n",
              "      <td>241.86</td>\n",
              "      <td>202.76</td>\n",
              "      <td>587.8</td>\n",
              "      <td>608.49</td>\n",
              "      <td>283.89</td>\n",
              "      <td>259.62</td>\n",
              "      <td>257.53</td>\n",
              "      <td>798.1</td>\n",
              "      <td>202.96</td>\n",
              "      <td>107.26</td>\n",
              "      <td>408.55</td>\n",
              "      <td>271.37</td>\n",
              "      <td>458.85</td>\n",
              "      <td>458.8</td>\n",
              "      <td>290.69</td>\n",
              "      <td>467.75</td>\n",
              "      <td>405.13</td>\n",
              "      <td>259.96</td>\n",
              "      <td>468.65</td>\n",
              "      <td>374.36</td>\n",
              "      <td>382.96</td>\n",
              "      <td>443.56</td>\n",
              "      <td>335.9</td>\n",
              "      <td>399.35</td>\n",
              "      <td>310.81</td>\n",
              "      <td>198.46</td>\n",
              "    </tr>\n",
              "  </tbody>\n",
              "</table>\n",
              "</div>"
            ],
            "text/plain": [
              "           Unnamed: 0    Unnamed: 1  ...   Unnamed: 26  Unnamed: 27\n",
              "0                 NaN           NaN  ...           NaN          NaN\n",
              "1                 NaN           NaN  ...           NaN          NaN\n",
              "2                 NaN           NaN  ...           NaN          NaN\n",
              "3               Dates  9-29 to 10-5  ...  3-22 to 3-28  3-29 to 4-4\n",
              "4  Sealed MTG Product       2114.58  ...        695.97      1769.58\n",
              "5         MTG Singles        216.33  ...        310.81       198.46\n",
              "\n",
              "[6 rows x 28 columns]"
            ]
          },
          "metadata": {
            "tags": []
          },
          "execution_count": 13
        }
      ]
    },
    {
      "cell_type": "code",
      "metadata": {
        "id": "AjBCDPISpr5r",
        "colab_type": "code",
        "colab": {}
      },
      "source": [
        "weekly.columns = [ 'Dates','9-29 to 10-5','10-6 to 10-12','10-13 to 10-19',\n",
        "                  '10-20 to 10-26','10-27 to 11-2','11-3 to 11-9',\n",
        "                  '11-10 to 11-16','11-17 to 11-23','11-24 to 11-30',\n",
        "                  '12-1 to 12-7','12-8 to 12-14','12-15 to 12-21','12-22 to 12-28',\n",
        "                  '12-29 to 1-4','1-5 to 1-11','1-12 to 1-18','1-19 to 1-25',\n",
        "                  '1-26 to 2-1','2-2 to 2-8','2-9 to 2-15','2-16 to 2-22',\n",
        "                  '2-23 to 2-29','3-1 to 3-7','3-8 to 3-14','3-15 to 3-21',\n",
        "                  '3-22 to 3-28','3-29 to 4-4']"
      ],
      "execution_count": 0,
      "outputs": []
    },
    {
      "cell_type": "code",
      "metadata": {
        "id": "zooESdFskq-F",
        "colab_type": "code",
        "colab": {}
      },
      "source": [
        "\n",
        "weekly = weekly.T"
      ],
      "execution_count": 0,
      "outputs": []
    },
    {
      "cell_type": "code",
      "metadata": {
        "id": "5qeVXnLtrNI4",
        "colab_type": "code",
        "colab": {}
      },
      "source": [
        "weekly =  weekly.drop(weekly.columns[[0,1,2,3]], axis = 1)"
      ],
      "execution_count": 0,
      "outputs": []
    },
    {
      "cell_type": "code",
      "metadata": {
        "id": "n5Pk6P_bkstP",
        "colab_type": "code",
        "outputId": "9ef16c82-c4fd-4c9e-ae38-5425f9308674",
        "colab": {
          "base_uri": "https://localhost:8080/",
          "height": 917
        }
      },
      "source": [
        "weekly\n"
      ],
      "execution_count": 17,
      "outputs": [
        {
          "output_type": "execute_result",
          "data": {
            "text/html": [
              "<div>\n",
              "<style scoped>\n",
              "    .dataframe tbody tr th:only-of-type {\n",
              "        vertical-align: middle;\n",
              "    }\n",
              "\n",
              "    .dataframe tbody tr th {\n",
              "        vertical-align: top;\n",
              "    }\n",
              "\n",
              "    .dataframe thead th {\n",
              "        text-align: right;\n",
              "    }\n",
              "</style>\n",
              "<table border=\"1\" class=\"dataframe\">\n",
              "  <thead>\n",
              "    <tr style=\"text-align: right;\">\n",
              "      <th></th>\n",
              "      <th>4</th>\n",
              "      <th>5</th>\n",
              "    </tr>\n",
              "  </thead>\n",
              "  <tbody>\n",
              "    <tr>\n",
              "      <th>Dates</th>\n",
              "      <td>Sealed MTG Product</td>\n",
              "      <td>MTG Singles</td>\n",
              "    </tr>\n",
              "    <tr>\n",
              "      <th>9-29 to 10-5</th>\n",
              "      <td>2114.58</td>\n",
              "      <td>216.33</td>\n",
              "    </tr>\n",
              "    <tr>\n",
              "      <th>10-6 to 10-12</th>\n",
              "      <td>1083.02</td>\n",
              "      <td>241.86</td>\n",
              "    </tr>\n",
              "    <tr>\n",
              "      <th>10-13 to 10-19</th>\n",
              "      <td>866.18</td>\n",
              "      <td>202.76</td>\n",
              "    </tr>\n",
              "    <tr>\n",
              "      <th>10-20 to 10-26</th>\n",
              "      <td>604.7</td>\n",
              "      <td>587.8</td>\n",
              "    </tr>\n",
              "    <tr>\n",
              "      <th>10-27 to 11-2</th>\n",
              "      <td>684.53</td>\n",
              "      <td>608.49</td>\n",
              "    </tr>\n",
              "    <tr>\n",
              "      <th>11-3 to 11-9</th>\n",
              "      <td>530.15</td>\n",
              "      <td>283.89</td>\n",
              "    </tr>\n",
              "    <tr>\n",
              "      <th>11-10 to 11-16</th>\n",
              "      <td>349.78</td>\n",
              "      <td>259.62</td>\n",
              "    </tr>\n",
              "    <tr>\n",
              "      <th>11-17 to 11-23</th>\n",
              "      <td>209.3</td>\n",
              "      <td>257.53</td>\n",
              "    </tr>\n",
              "    <tr>\n",
              "      <th>11-24 to 11-30</th>\n",
              "      <td>798.38</td>\n",
              "      <td>798.1</td>\n",
              "    </tr>\n",
              "    <tr>\n",
              "      <th>12-1 to 12-7</th>\n",
              "      <td>165.08</td>\n",
              "      <td>202.96</td>\n",
              "    </tr>\n",
              "    <tr>\n",
              "      <th>12-8 to 12-14</th>\n",
              "      <td>1033.62</td>\n",
              "      <td>107.26</td>\n",
              "    </tr>\n",
              "    <tr>\n",
              "      <th>12-15 to 12-21</th>\n",
              "      <td>599.06</td>\n",
              "      <td>408.55</td>\n",
              "    </tr>\n",
              "    <tr>\n",
              "      <th>12-22 to 12-28</th>\n",
              "      <td>1122.71</td>\n",
              "      <td>271.37</td>\n",
              "    </tr>\n",
              "    <tr>\n",
              "      <th>12-29 to 1-4</th>\n",
              "      <td>549.83</td>\n",
              "      <td>458.85</td>\n",
              "    </tr>\n",
              "    <tr>\n",
              "      <th>1-5 to 1-11</th>\n",
              "      <td>824.42</td>\n",
              "      <td>458.8</td>\n",
              "    </tr>\n",
              "    <tr>\n",
              "      <th>1-12 to 1-18</th>\n",
              "      <td>3622.07</td>\n",
              "      <td>290.69</td>\n",
              "    </tr>\n",
              "    <tr>\n",
              "      <th>1-19 to 1-25</th>\n",
              "      <td>1299.45</td>\n",
              "      <td>467.75</td>\n",
              "    </tr>\n",
              "    <tr>\n",
              "      <th>1-26 to 2-1</th>\n",
              "      <td>1098.69</td>\n",
              "      <td>405.13</td>\n",
              "    </tr>\n",
              "    <tr>\n",
              "      <th>2-2 to 2-8</th>\n",
              "      <td>918.27</td>\n",
              "      <td>259.96</td>\n",
              "    </tr>\n",
              "    <tr>\n",
              "      <th>2-9 to 2-15</th>\n",
              "      <td>947.83</td>\n",
              "      <td>468.65</td>\n",
              "    </tr>\n",
              "    <tr>\n",
              "      <th>2-16 to 2-22</th>\n",
              "      <td>621.45</td>\n",
              "      <td>374.36</td>\n",
              "    </tr>\n",
              "    <tr>\n",
              "      <th>2-23 to 2-29</th>\n",
              "      <td>1093.4</td>\n",
              "      <td>382.96</td>\n",
              "    </tr>\n",
              "    <tr>\n",
              "      <th>3-1 to 3-7</th>\n",
              "      <td>620.16</td>\n",
              "      <td>443.56</td>\n",
              "    </tr>\n",
              "    <tr>\n",
              "      <th>3-8 to 3-14</th>\n",
              "      <td>1557.13</td>\n",
              "      <td>335.9</td>\n",
              "    </tr>\n",
              "    <tr>\n",
              "      <th>3-15 to 3-21</th>\n",
              "      <td>762.14</td>\n",
              "      <td>399.35</td>\n",
              "    </tr>\n",
              "    <tr>\n",
              "      <th>3-22 to 3-28</th>\n",
              "      <td>695.97</td>\n",
              "      <td>310.81</td>\n",
              "    </tr>\n",
              "    <tr>\n",
              "      <th>3-29 to 4-4</th>\n",
              "      <td>1769.58</td>\n",
              "      <td>198.46</td>\n",
              "    </tr>\n",
              "  </tbody>\n",
              "</table>\n",
              "</div>"
            ],
            "text/plain": [
              "                                 4            5\n",
              "Dates           Sealed MTG Product  MTG Singles\n",
              "9-29 to 10-5               2114.58       216.33\n",
              "10-6 to 10-12              1083.02       241.86\n",
              "10-13 to 10-19              866.18       202.76\n",
              "10-20 to 10-26               604.7        587.8\n",
              "10-27 to 11-2               684.53       608.49\n",
              "11-3 to 11-9                530.15       283.89\n",
              "11-10 to 11-16              349.78       259.62\n",
              "11-17 to 11-23               209.3       257.53\n",
              "11-24 to 11-30              798.38        798.1\n",
              "12-1 to 12-7                165.08       202.96\n",
              "12-8 to 12-14              1033.62       107.26\n",
              "12-15 to 12-21              599.06       408.55\n",
              "12-22 to 12-28             1122.71       271.37\n",
              "12-29 to 1-4                549.83       458.85\n",
              "1-5 to 1-11                 824.42        458.8\n",
              "1-12 to 1-18               3622.07       290.69\n",
              "1-19 to 1-25               1299.45       467.75\n",
              "1-26 to 2-1                1098.69       405.13\n",
              "2-2 to 2-8                  918.27       259.96\n",
              "2-9 to 2-15                 947.83       468.65\n",
              "2-16 to 2-22                621.45       374.36\n",
              "2-23 to 2-29                1093.4       382.96\n",
              "3-1 to 3-7                  620.16       443.56\n",
              "3-8 to 3-14                1557.13        335.9\n",
              "3-15 to 3-21                762.14       399.35\n",
              "3-22 to 3-28                695.97       310.81\n",
              "3-29 to 4-4                1769.58       198.46"
            ]
          },
          "metadata": {
            "tags": []
          },
          "execution_count": 17
        }
      ]
    },
    {
      "cell_type": "code",
      "metadata": {
        "id": "m8Wrafeu-mtx",
        "colab_type": "code",
        "colab": {}
      },
      "source": [
        "weekly = weekly.rename(columns={4:'Sealed_MTG_Product',5:'MTG_Singles' , 3: 'Dates'})"
      ],
      "execution_count": 0,
      "outputs": []
    },
    {
      "cell_type": "code",
      "metadata": {
        "id": "Yx6Errwb_ZQ2",
        "colab_type": "code",
        "colab": {}
      },
      "source": [
        "weekly =  weekly.T"
      ],
      "execution_count": 0,
      "outputs": []
    },
    {
      "cell_type": "code",
      "metadata": {
        "id": "55Gzr5PKg6pt",
        "colab_type": "code",
        "outputId": "632324c3-cb10-40b7-d0bb-440d167ced4d",
        "colab": {
          "base_uri": "https://localhost:8080/",
          "height": 250
        }
      },
      "source": [
        "weekly"
      ],
      "execution_count": 20,
      "outputs": [
        {
          "output_type": "execute_result",
          "data": {
            "text/html": [
              "<div>\n",
              "<style scoped>\n",
              "    .dataframe tbody tr th:only-of-type {\n",
              "        vertical-align: middle;\n",
              "    }\n",
              "\n",
              "    .dataframe tbody tr th {\n",
              "        vertical-align: top;\n",
              "    }\n",
              "\n",
              "    .dataframe thead th {\n",
              "        text-align: right;\n",
              "    }\n",
              "</style>\n",
              "<table border=\"1\" class=\"dataframe\">\n",
              "  <thead>\n",
              "    <tr style=\"text-align: right;\">\n",
              "      <th></th>\n",
              "      <th>Dates</th>\n",
              "      <th>9-29 to 10-5</th>\n",
              "      <th>10-6 to 10-12</th>\n",
              "      <th>10-13 to 10-19</th>\n",
              "      <th>10-20 to 10-26</th>\n",
              "      <th>10-27 to 11-2</th>\n",
              "      <th>11-3 to 11-9</th>\n",
              "      <th>11-10 to 11-16</th>\n",
              "      <th>11-17 to 11-23</th>\n",
              "      <th>11-24 to 11-30</th>\n",
              "      <th>12-1 to 12-7</th>\n",
              "      <th>12-8 to 12-14</th>\n",
              "      <th>12-15 to 12-21</th>\n",
              "      <th>12-22 to 12-28</th>\n",
              "      <th>12-29 to 1-4</th>\n",
              "      <th>1-5 to 1-11</th>\n",
              "      <th>1-12 to 1-18</th>\n",
              "      <th>1-19 to 1-25</th>\n",
              "      <th>1-26 to 2-1</th>\n",
              "      <th>2-2 to 2-8</th>\n",
              "      <th>2-9 to 2-15</th>\n",
              "      <th>2-16 to 2-22</th>\n",
              "      <th>2-23 to 2-29</th>\n",
              "      <th>3-1 to 3-7</th>\n",
              "      <th>3-8 to 3-14</th>\n",
              "      <th>3-15 to 3-21</th>\n",
              "      <th>3-22 to 3-28</th>\n",
              "      <th>3-29 to 4-4</th>\n",
              "    </tr>\n",
              "  </thead>\n",
              "  <tbody>\n",
              "    <tr>\n",
              "      <th>Sealed_MTG_Product</th>\n",
              "      <td>Sealed MTG Product</td>\n",
              "      <td>2114.58</td>\n",
              "      <td>1083.02</td>\n",
              "      <td>866.18</td>\n",
              "      <td>604.7</td>\n",
              "      <td>684.53</td>\n",
              "      <td>530.15</td>\n",
              "      <td>349.78</td>\n",
              "      <td>209.3</td>\n",
              "      <td>798.38</td>\n",
              "      <td>165.08</td>\n",
              "      <td>1033.62</td>\n",
              "      <td>599.06</td>\n",
              "      <td>1122.71</td>\n",
              "      <td>549.83</td>\n",
              "      <td>824.42</td>\n",
              "      <td>3622.07</td>\n",
              "      <td>1299.45</td>\n",
              "      <td>1098.69</td>\n",
              "      <td>918.27</td>\n",
              "      <td>947.83</td>\n",
              "      <td>621.45</td>\n",
              "      <td>1093.4</td>\n",
              "      <td>620.16</td>\n",
              "      <td>1557.13</td>\n",
              "      <td>762.14</td>\n",
              "      <td>695.97</td>\n",
              "      <td>1769.58</td>\n",
              "    </tr>\n",
              "    <tr>\n",
              "      <th>MTG_Singles</th>\n",
              "      <td>MTG Singles</td>\n",
              "      <td>216.33</td>\n",
              "      <td>241.86</td>\n",
              "      <td>202.76</td>\n",
              "      <td>587.8</td>\n",
              "      <td>608.49</td>\n",
              "      <td>283.89</td>\n",
              "      <td>259.62</td>\n",
              "      <td>257.53</td>\n",
              "      <td>798.1</td>\n",
              "      <td>202.96</td>\n",
              "      <td>107.26</td>\n",
              "      <td>408.55</td>\n",
              "      <td>271.37</td>\n",
              "      <td>458.85</td>\n",
              "      <td>458.8</td>\n",
              "      <td>290.69</td>\n",
              "      <td>467.75</td>\n",
              "      <td>405.13</td>\n",
              "      <td>259.96</td>\n",
              "      <td>468.65</td>\n",
              "      <td>374.36</td>\n",
              "      <td>382.96</td>\n",
              "      <td>443.56</td>\n",
              "      <td>335.9</td>\n",
              "      <td>399.35</td>\n",
              "      <td>310.81</td>\n",
              "      <td>198.46</td>\n",
              "    </tr>\n",
              "  </tbody>\n",
              "</table>\n",
              "</div>"
            ],
            "text/plain": [
              "                                 Dates 9-29 to 10-5  ... 3-22 to 3-28 3-29 to 4-4\n",
              "Sealed_MTG_Product  Sealed MTG Product      2114.58  ...       695.97     1769.58\n",
              "MTG_Singles                MTG Singles       216.33  ...       310.81      198.46\n",
              "\n",
              "[2 rows x 28 columns]"
            ]
          },
          "metadata": {
            "tags": []
          },
          "execution_count": 20
        }
      ]
    },
    {
      "cell_type": "code",
      "metadata": {
        "id": "CY_bKKyt7NfT",
        "colab_type": "code",
        "colab": {}
      },
      "source": [
        "weekly = weekly.infer_objects()"
      ],
      "execution_count": 0,
      "outputs": []
    },
    {
      "cell_type": "code",
      "metadata": {
        "id": "d2tcC08gEk2n",
        "colab_type": "code",
        "colab": {}
      },
      "source": [
        "weekly =  weekly.drop(weekly.columns[[0]], axis = 1)"
      ],
      "execution_count": 0,
      "outputs": []
    },
    {
      "cell_type": "code",
      "metadata": {
        "id": "1wWDK658ChFW",
        "colab_type": "code",
        "colab": {}
      },
      "source": [
        "weekly_cleaned = weekly"
      ],
      "execution_count": 0,
      "outputs": []
    },
    {
      "cell_type": "code",
      "metadata": {
        "id": "oRcVkUoJCwaW",
        "colab_type": "code",
        "colab": {}
      },
      "source": [
        "weekly_cleaned = weekly_cleaned.T"
      ],
      "execution_count": 0,
      "outputs": []
    },
    {
      "cell_type": "code",
      "metadata": {
        "id": "77iJZlON65k-",
        "colab_type": "code",
        "colab": {
          "base_uri": "https://localhost:8080/",
          "height": 68
        },
        "outputId": "d6131000-e843-4754-ca02-45921ff53041"
      },
      "source": [
        "weekly_cleaned.dtypes"
      ],
      "execution_count": 25,
      "outputs": [
        {
          "output_type": "execute_result",
          "data": {
            "text/plain": [
              "Sealed_MTG_Product    float64\n",
              "MTG_Singles           float64\n",
              "dtype: object"
            ]
          },
          "metadata": {
            "tags": []
          },
          "execution_count": 25
        }
      ]
    },
    {
      "cell_type": "code",
      "metadata": {
        "id": "vwLXvhVRBlb1",
        "colab_type": "code",
        "colab": {
          "base_uri": "https://localhost:8080/",
          "height": 282
        },
        "outputId": "a3d7d73d-0632-4dc2-bf73-64807ad7c392"
      },
      "source": [
        "weekly_cleaned.plot()"
      ],
      "execution_count": 26,
      "outputs": [
        {
          "output_type": "execute_result",
          "data": {
            "text/plain": [
              "<matplotlib.axes._subplots.AxesSubplot at 0x7fe4ad92a8d0>"
            ]
          },
          "metadata": {
            "tags": []
          },
          "execution_count": 26
        },
        {
          "output_type": "display_data",
          "data": {
            "image/png": "[encoded data removed]",
            "text/plain": [
              "<Figure size 432x288 with 1 Axes>"
            ]
          },
          "metadata": {
            "tags": [],
            "needs_background": "light"
          }
        }
      ]
    },
    {
      "cell_type": "code",
      "metadata": {
        "id": "f8JT2_CP9_Qs",
        "colab_type": "code",
        "colab": {
          "base_uri": "https://localhost:8080/",
          "height": 347
        },
        "outputId": "899133e4-d2f4-451e-b94c-45a7dc77bcaa"
      },
      "source": [
        "weekly_cleaned.plot.bar()"
      ],
      "execution_count": 27,
      "outputs": [
        {
          "output_type": "execute_result",
          "data": {
            "text/plain": [
              "<matplotlib.axes._subplots.AxesSubplot at 0x7fe4adf1f400>"
            ]
          },
          "metadata": {
            "tags": []
          },
          "execution_count": 27
        },
        {
          "output_type": "display_data",
          "data": {
            "image/png": "[encoded data removed]",
            "text/plain": [
              "<Figure size 432x288 with 1 Axes>"
            ]
          },
          "metadata": {
            "tags": [],
            "needs_background": "light"
          }
        }
      ]
    },
    {
      "cell_type": "code",
      "metadata": {
        "id": "C7N1OqW9HZkL",
        "colab_type": "code",
        "colab": {
          "base_uri": "https://localhost:8080/",
          "height": 886
        },
        "outputId": "d8c3903a-5ed3-4710-a1a7-785459b17bfe"
      },
      "source": [
        "weekly_cleaned"
      ],
      "execution_count": 28,
      "outputs": [
        {
          "output_type": "execute_result",
          "data": {
            "text/html": [
              "<div>\n",
              "<style scoped>\n",
              "    .dataframe tbody tr th:only-of-type {\n",
              "        vertical-align: middle;\n",
              "    }\n",
              "\n",
              "    .dataframe tbody tr th {\n",
              "        vertical-align: top;\n",
              "    }\n",
              "\n",
              "    .dataframe thead th {\n",
              "        text-align: right;\n",
              "    }\n",
              "</style>\n",
              "<table border=\"1\" class=\"dataframe\">\n",
              "  <thead>\n",
              "    <tr style=\"text-align: right;\">\n",
              "      <th></th>\n",
              "      <th>Sealed_MTG_Product</th>\n",
              "      <th>MTG_Singles</th>\n",
              "    </tr>\n",
              "  </thead>\n",
              "  <tbody>\n",
              "    <tr>\n",
              "      <th>9-29 to 10-5</th>\n",
              "      <td>2114.58</td>\n",
              "      <td>216.33</td>\n",
              "    </tr>\n",
              "    <tr>\n",
              "      <th>10-6 to 10-12</th>\n",
              "      <td>1083.02</td>\n",
              "      <td>241.86</td>\n",
              "    </tr>\n",
              "    <tr>\n",
              "      <th>10-13 to 10-19</th>\n",
              "      <td>866.18</td>\n",
              "      <td>202.76</td>\n",
              "    </tr>\n",
              "    <tr>\n",
              "      <th>10-20 to 10-26</th>\n",
              "      <td>604.70</td>\n",
              "      <td>587.80</td>\n",
              "    </tr>\n",
              "    <tr>\n",
              "      <th>10-27 to 11-2</th>\n",
              "      <td>684.53</td>\n",
              "      <td>608.49</td>\n",
              "    </tr>\n",
              "    <tr>\n",
              "      <th>11-3 to 11-9</th>\n",
              "      <td>530.15</td>\n",
              "      <td>283.89</td>\n",
              "    </tr>\n",
              "    <tr>\n",
              "      <th>11-10 to 11-16</th>\n",
              "      <td>349.78</td>\n",
              "      <td>259.62</td>\n",
              "    </tr>\n",
              "    <tr>\n",
              "      <th>11-17 to 11-23</th>\n",
              "      <td>209.30</td>\n",
              "      <td>257.53</td>\n",
              "    </tr>\n",
              "    <tr>\n",
              "      <th>11-24 to 11-30</th>\n",
              "      <td>798.38</td>\n",
              "      <td>798.10</td>\n",
              "    </tr>\n",
              "    <tr>\n",
              "      <th>12-1 to 12-7</th>\n",
              "      <td>165.08</td>\n",
              "      <td>202.96</td>\n",
              "    </tr>\n",
              "    <tr>\n",
              "      <th>12-8 to 12-14</th>\n",
              "      <td>1033.62</td>\n",
              "      <td>107.26</td>\n",
              "    </tr>\n",
              "    <tr>\n",
              "      <th>12-15 to 12-21</th>\n",
              "      <td>599.06</td>\n",
              "      <td>408.55</td>\n",
              "    </tr>\n",
              "    <tr>\n",
              "      <th>12-22 to 12-28</th>\n",
              "      <td>1122.71</td>\n",
              "      <td>271.37</td>\n",
              "    </tr>\n",
              "    <tr>\n",
              "      <th>12-29 to 1-4</th>\n",
              "      <td>549.83</td>\n",
              "      <td>458.85</td>\n",
              "    </tr>\n",
              "    <tr>\n",
              "      <th>1-5 to 1-11</th>\n",
              "      <td>824.42</td>\n",
              "      <td>458.80</td>\n",
              "    </tr>\n",
              "    <tr>\n",
              "      <th>1-12 to 1-18</th>\n",
              "      <td>3622.07</td>\n",
              "      <td>290.69</td>\n",
              "    </tr>\n",
              "    <tr>\n",
              "      <th>1-19 to 1-25</th>\n",
              "      <td>1299.45</td>\n",
              "      <td>467.75</td>\n",
              "    </tr>\n",
              "    <tr>\n",
              "      <th>1-26 to 2-1</th>\n",
              "      <td>1098.69</td>\n",
              "      <td>405.13</td>\n",
              "    </tr>\n",
              "    <tr>\n",
              "      <th>2-2 to 2-8</th>\n",
              "      <td>918.27</td>\n",
              "      <td>259.96</td>\n",
              "    </tr>\n",
              "    <tr>\n",
              "      <th>2-9 to 2-15</th>\n",
              "      <td>947.83</td>\n",
              "      <td>468.65</td>\n",
              "    </tr>\n",
              "    <tr>\n",
              "      <th>2-16 to 2-22</th>\n",
              "      <td>621.45</td>\n",
              "      <td>374.36</td>\n",
              "    </tr>\n",
              "    <tr>\n",
              "      <th>2-23 to 2-29</th>\n",
              "      <td>1093.40</td>\n",
              "      <td>382.96</td>\n",
              "    </tr>\n",
              "    <tr>\n",
              "      <th>3-1 to 3-7</th>\n",
              "      <td>620.16</td>\n",
              "      <td>443.56</td>\n",
              "    </tr>\n",
              "    <tr>\n",
              "      <th>3-8 to 3-14</th>\n",
              "      <td>1557.13</td>\n",
              "      <td>335.90</td>\n",
              "    </tr>\n",
              "    <tr>\n",
              "      <th>3-15 to 3-21</th>\n",
              "      <td>762.14</td>\n",
              "      <td>399.35</td>\n",
              "    </tr>\n",
              "    <tr>\n",
              "      <th>3-22 to 3-28</th>\n",
              "      <td>695.97</td>\n",
              "      <td>310.81</td>\n",
              "    </tr>\n",
              "    <tr>\n",
              "      <th>3-29 to 4-4</th>\n",
              "      <td>1769.58</td>\n",
              "      <td>198.46</td>\n",
              "    </tr>\n",
              "  </tbody>\n",
              "</table>\n",
              "</div>"
            ],
            "text/plain": [
              "                Sealed_MTG_Product  MTG_Singles\n",
              "9-29 to 10-5               2114.58       216.33\n",
              "10-6 to 10-12              1083.02       241.86\n",
              "10-13 to 10-19              866.18       202.76\n",
              "10-20 to 10-26              604.70       587.80\n",
              "10-27 to 11-2               684.53       608.49\n",
              "11-3 to 11-9                530.15       283.89\n",
              "11-10 to 11-16              349.78       259.62\n",
              "11-17 to 11-23              209.30       257.53\n",
              "11-24 to 11-30              798.38       798.10\n",
              "12-1 to 12-7                165.08       202.96\n",
              "12-8 to 12-14              1033.62       107.26\n",
              "12-15 to 12-21              599.06       408.55\n",
              "12-22 to 12-28             1122.71       271.37\n",
              "12-29 to 1-4                549.83       458.85\n",
              "1-5 to 1-11                 824.42       458.80\n",
              "1-12 to 1-18               3622.07       290.69\n",
              "1-19 to 1-25               1299.45       467.75\n",
              "1-26 to 2-1                1098.69       405.13\n",
              "2-2 to 2-8                  918.27       259.96\n",
              "2-9 to 2-15                 947.83       468.65\n",
              "2-16 to 2-22                621.45       374.36\n",
              "2-23 to 2-29               1093.40       382.96\n",
              "3-1 to 3-7                  620.16       443.56\n",
              "3-8 to 3-14                1557.13       335.90\n",
              "3-15 to 3-21                762.14       399.35\n",
              "3-22 to 3-28                695.97       310.81\n",
              "3-29 to 4-4                1769.58       198.46"
            ]
          },
          "metadata": {
            "tags": []
          },
          "execution_count": 28
        }
      ]
    },
    {
      "cell_type": "code",
      "metadata": {
        "id": "A3T3bPxNFQj5",
        "colab_type": "code",
        "outputId": "dfb6480d-06d8-46aa-b2aa-1984e5bcf59e",
        "colab": {
          "base_uri": "https://localhost:8080/",
          "height": 339
        }
      },
      "source": [
        "\n",
        "fig, ax = plt.subplots()\n",
        "\n",
        "plt.style.use('bmh')\n",
        "ax.plot(weekly_cleaned)\n",
        "# ax.text(.96,1.1,s=\"\"\"Biden's share of media mentions on each medium realative to the next \"\"\",\n",
        "#         fontsize=10,\n",
        "#        horizontalalignment='right',\n",
        "#         verticalalignment='top',\n",
        "#         transform=ax.transAxes)\n",
        "# ax.text(.53,1.019,s=\"\"\"most-mentioned candidate each week\"\"\",\n",
        "#         fontsize=10,\n",
        "#        horizontalalignment='right',\n",
        "#         verticalalignment='top',\n",
        "#         transform=ax.transAxes)\n",
        "\n",
        "ax.legend(['Sealed_MTG_Product','MTG_Singles'])\n",
        "ax.set_yticklabels(['$0',\n",
        "                    '$0','$500',\n",
        "                     '$1000','$1500','$2000','$2500','$3000' , '$3500'], color='G')\n",
        "plt.xticks(rotation = 60)\n",
        "plt.yticks(rotation = 15)\n",
        "\n",
        "ax.set_title(\"MTG Sales by Week Over 6 Months \",\n",
        "             fontsize=16, fontweight='bold', c='#000000')\n",
        "plt.ylabel('Sales Amount in Dollars', color='G')\n",
        "plt.show()"
      ],
      "execution_count": 40,
      "outputs": [
        {
          "output_type": "display_data",
          "data": {
            "image/png": "[encoded data removed]",
            "text/plain": [
              "<Figure size 432x288 with 1 Axes>"
            ]
          },
          "metadata": {
            "tags": [],
            "needs_background": "light"
          }
        }
      ]
    },
    {
      "cell_type": "code",
      "metadata": {
        "id": "v3KV2fRVj2LJ",
        "colab_type": "code",
        "colab": {}
      },
      "source": [
        ""
      ],
      "execution_count": 0,
      "outputs": []
    },
    {
      "cell_type": "code",
      "metadata": {
        "id": "PPWtkDPeHC59",
        "colab_type": "code",
        "colab": {
          "base_uri": "https://localhost:8080/",
          "height": 623
        },
        "outputId": "adf2b451-b218-4921-a51d-e5c932aa8c03"
      },
      "source": [
        "\n",
        "fig, ax = plt.subplots()\n",
        "\n",
        "plt.style.use('bmh')\n",
        "ax.bar(monthly_cleaned, height=1)\n",
        "# ax.text(.96,1.1,s=\"\"\"Biden's share of media mentions on each medium realative to the next \"\"\",\n",
        "#         fontsize=10,\n",
        "#        horizontalalignment='right',\n",
        "#         verticalalignment='top',\n",
        "#         transform=ax.transAxes)\n",
        "# ax.text(.53,1.019,s=\"\"\"most-mentioned candidate each week\"\"\",\n",
        "#         fontsize=10,\n",
        "#        horizontalalignment='right',\n",
        "#         verticalalignment='top',\n",
        "#         transform=ax.transAxes)\n",
        "\n",
        "ax.legend(['Sealed_MTG_Product','MTG_Singles'])\n",
        "ax.set_yticklabels(['$0',\n",
        "                    '$0','$500',\n",
        "                     '$1000','$1500','$2000','$2500','$3000' , '$3500'], color='G')\n",
        "plt.xticks(rotation = 45)\n",
        "\n",
        "\n",
        "ax.set_title(\"MTG \", x=.5, y=1.1,\n",
        "             fontsize=16, fontweight='bold')\n",
        "\n",
        "plt.show()"
      ],
      "execution_count": 30,
      "outputs": [
        {
          "output_type": "error",
          "ename": "TypeError",
          "evalue": "ignored",
          "traceback": [
            "\u001b[0;31m---------------------------------------------------------------------------\u001b[0m",
            "\u001b[0;31mTypeError\u001b[0m                                 Traceback (most recent call last)",
            "\u001b[0;32m<ipython-input-30-a902b591e580>\u001b[0m in \u001b[0;36m<module>\u001b[0;34m()\u001b[0m\n\u001b[1;32m      3\u001b[0m \u001b[0;34m\u001b[0m\u001b[0m\n\u001b[1;32m      4\u001b[0m \u001b[0mplt\u001b[0m\u001b[0;34m.\u001b[0m\u001b[0mstyle\u001b[0m\u001b[0;34m.\u001b[0m\u001b[0muse\u001b[0m\u001b[0;34m(\u001b[0m\u001b[0;34m'bmh'\u001b[0m\u001b[0;34m)\u001b[0m\u001b[0;34m\u001b[0m\u001b[0;34m\u001b[0m\u001b[0m\n\u001b[0;32m----> 5\u001b[0;31m \u001b[0max\u001b[0m\u001b[0;34m.\u001b[0m\u001b[0mbar\u001b[0m\u001b[0;34m(\u001b[0m\u001b[0mmonthly_cleaned\u001b[0m\u001b[0;34m,\u001b[0m \u001b[0mheight\u001b[0m\u001b[0;34m=\u001b[0m\u001b[0;36m1\u001b[0m\u001b[0;34m)\u001b[0m\u001b[0;34m\u001b[0m\u001b[0;34m\u001b[0m\u001b[0m\n\u001b[0m\u001b[1;32m      6\u001b[0m \u001b[0;31m# ax.text(.96,1.1,s=\"\"\"Biden's share of media mentions on each medium realative to the next \"\"\",\u001b[0m\u001b[0;34m\u001b[0m\u001b[0;34m\u001b[0m\u001b[0;34m\u001b[0m\u001b[0m\n\u001b[1;32m      7\u001b[0m \u001b[0;31m#         fontsize=10,\u001b[0m\u001b[0;34m\u001b[0m\u001b[0;34m\u001b[0m\u001b[0;34m\u001b[0m\u001b[0m\n",
            "\u001b[0;32m/usr/local/lib/python3.6/dist-packages/matplotlib/__init__.py\u001b[0m in \u001b[0;36minner\u001b[0;34m(ax, data, *args, **kwargs)\u001b[0m\n\u001b[1;32m   1563\u001b[0m     \u001b[0;32mdef\u001b[0m \u001b[0minner\u001b[0m\u001b[0;34m(\u001b[0m\u001b[0max\u001b[0m\u001b[0;34m,\u001b[0m \u001b[0;34m*\u001b[0m\u001b[0margs\u001b[0m\u001b[0;34m,\u001b[0m \u001b[0mdata\u001b[0m\u001b[0;34m=\u001b[0m\u001b[0;32mNone\u001b[0m\u001b[0;34m,\u001b[0m \u001b[0;34m**\u001b[0m\u001b[0mkwargs\u001b[0m\u001b[0;34m)\u001b[0m\u001b[0;34m:\u001b[0m\u001b[0;34m\u001b[0m\u001b[0;34m\u001b[0m\u001b[0m\n\u001b[1;32m   1564\u001b[0m         \u001b[0;32mif\u001b[0m \u001b[0mdata\u001b[0m \u001b[0;32mis\u001b[0m \u001b[0;32mNone\u001b[0m\u001b[0;34m:\u001b[0m\u001b[0;34m\u001b[0m\u001b[0;34m\u001b[0m\u001b[0m\n\u001b[0;32m-> 1565\u001b[0;31m             \u001b[0;32mreturn\u001b[0m \u001b[0mfunc\u001b[0m\u001b[0;34m(\u001b[0m\u001b[0max\u001b[0m\u001b[0;34m,\u001b[0m \u001b[0;34m*\u001b[0m\u001b[0mmap\u001b[0m\u001b[0;34m(\u001b[0m\u001b[0msanitize_sequence\u001b[0m\u001b[0;34m,\u001b[0m \u001b[0margs\u001b[0m\u001b[0;34m)\u001b[0m\u001b[0;34m,\u001b[0m \u001b[0;34m**\u001b[0m\u001b[0mkwargs\u001b[0m\u001b[0;34m)\u001b[0m\u001b[0;34m\u001b[0m\u001b[0;34m\u001b[0m\u001b[0m\n\u001b[0m\u001b[1;32m   1566\u001b[0m \u001b[0;34m\u001b[0m\u001b[0m\n\u001b[1;32m   1567\u001b[0m         \u001b[0mbound\u001b[0m \u001b[0;34m=\u001b[0m \u001b[0mnew_sig\u001b[0m\u001b[0;34m.\u001b[0m\u001b[0mbind\u001b[0m\u001b[0;34m(\u001b[0m\u001b[0max\u001b[0m\u001b[0;34m,\u001b[0m \u001b[0;34m*\u001b[0m\u001b[0margs\u001b[0m\u001b[0;34m,\u001b[0m \u001b[0;34m**\u001b[0m\u001b[0mkwargs\u001b[0m\u001b[0;34m)\u001b[0m\u001b[0;34m\u001b[0m\u001b[0;34m\u001b[0m\u001b[0m\n",
            "\u001b[0;32m/usr/local/lib/python3.6/dist-packages/matplotlib/axes/_axes.py\u001b[0m in \u001b[0;36mbar\u001b[0;34m(self, x, height, width, bottom, align, **kwargs)\u001b[0m\n\u001b[1;32m   2393\u001b[0m                 \u001b[0medgecolor\u001b[0m\u001b[0;34m=\u001b[0m\u001b[0me\u001b[0m\u001b[0;34m,\u001b[0m\u001b[0;34m\u001b[0m\u001b[0;34m\u001b[0m\u001b[0m\n\u001b[1;32m   2394\u001b[0m                 \u001b[0mlinewidth\u001b[0m\u001b[0;34m=\u001b[0m\u001b[0mlw\u001b[0m\u001b[0;34m,\u001b[0m\u001b[0;34m\u001b[0m\u001b[0;34m\u001b[0m\u001b[0m\n\u001b[0;32m-> 2395\u001b[0;31m                 \u001b[0mlabel\u001b[0m\u001b[0;34m=\u001b[0m\u001b[0;34m'_nolegend_'\u001b[0m\u001b[0;34m,\u001b[0m\u001b[0;34m\u001b[0m\u001b[0;34m\u001b[0m\u001b[0m\n\u001b[0m\u001b[1;32m   2396\u001b[0m                 )\n\u001b[1;32m   2397\u001b[0m             \u001b[0mr\u001b[0m\u001b[0;34m.\u001b[0m\u001b[0mupdate\u001b[0m\u001b[0;34m(\u001b[0m\u001b[0mkwargs\u001b[0m\u001b[0;34m)\u001b[0m\u001b[0;34m\u001b[0m\u001b[0;34m\u001b[0m\u001b[0m\n",
            "\u001b[0;32m/usr/local/lib/python3.6/dist-packages/matplotlib/patches.py\u001b[0m in \u001b[0;36m__init__\u001b[0;34m(self, xy, width, height, angle, **kwargs)\u001b[0m\n\u001b[1;32m    725\u001b[0m         \"\"\"\n\u001b[1;32m    726\u001b[0m \u001b[0;34m\u001b[0m\u001b[0m\n\u001b[0;32m--> 727\u001b[0;31m         \u001b[0mPatch\u001b[0m\u001b[0;34m.\u001b[0m\u001b[0m__init__\u001b[0m\u001b[0;34m(\u001b[0m\u001b[0mself\u001b[0m\u001b[0;34m,\u001b[0m \u001b[0;34m**\u001b[0m\u001b[0mkwargs\u001b[0m\u001b[0;34m)\u001b[0m\u001b[0;34m\u001b[0m\u001b[0;34m\u001b[0m\u001b[0m\n\u001b[0m\u001b[1;32m    728\u001b[0m \u001b[0;34m\u001b[0m\u001b[0m\n\u001b[1;32m    729\u001b[0m         \u001b[0mself\u001b[0m\u001b[0;34m.\u001b[0m\u001b[0m_x0\u001b[0m \u001b[0;34m=\u001b[0m \u001b[0mxy\u001b[0m\u001b[0;34m[\u001b[0m\u001b[0;36m0\u001b[0m\u001b[0;34m]\u001b[0m\u001b[0;34m\u001b[0m\u001b[0;34m\u001b[0m\u001b[0m\n",
            "\u001b[0;32m/usr/local/lib/python3.6/dist-packages/matplotlib/patches.py\u001b[0m in \u001b[0;36m__init__\u001b[0;34m(self, edgecolor, facecolor, color, linewidth, linestyle, antialiased, hatch, fill, capstyle, joinstyle, **kwargs)\u001b[0m\n\u001b[1;32m     87\u001b[0m         \u001b[0mself\u001b[0m\u001b[0;34m.\u001b[0m\u001b[0mset_fill\u001b[0m\u001b[0;34m(\u001b[0m\u001b[0mfill\u001b[0m\u001b[0;34m)\u001b[0m\u001b[0;34m\u001b[0m\u001b[0;34m\u001b[0m\u001b[0m\n\u001b[1;32m     88\u001b[0m         \u001b[0mself\u001b[0m\u001b[0;34m.\u001b[0m\u001b[0mset_linestyle\u001b[0m\u001b[0;34m(\u001b[0m\u001b[0mlinestyle\u001b[0m\u001b[0;34m)\u001b[0m\u001b[0;34m\u001b[0m\u001b[0;34m\u001b[0m\u001b[0m\n\u001b[0;32m---> 89\u001b[0;31m         \u001b[0mself\u001b[0m\u001b[0;34m.\u001b[0m\u001b[0mset_linewidth\u001b[0m\u001b[0;34m(\u001b[0m\u001b[0mlinewidth\u001b[0m\u001b[0;34m)\u001b[0m\u001b[0;34m\u001b[0m\u001b[0;34m\u001b[0m\u001b[0m\n\u001b[0m\u001b[1;32m     90\u001b[0m         \u001b[0mself\u001b[0m\u001b[0;34m.\u001b[0m\u001b[0mset_antialiased\u001b[0m\u001b[0;34m(\u001b[0m\u001b[0mantialiased\u001b[0m\u001b[0;34m)\u001b[0m\u001b[0;34m\u001b[0m\u001b[0;34m\u001b[0m\u001b[0m\n\u001b[1;32m     91\u001b[0m         \u001b[0mself\u001b[0m\u001b[0;34m.\u001b[0m\u001b[0mset_hatch\u001b[0m\u001b[0;34m(\u001b[0m\u001b[0mhatch\u001b[0m\u001b[0;34m)\u001b[0m\u001b[0;34m\u001b[0m\u001b[0;34m\u001b[0m\u001b[0m\n",
            "\u001b[0;32m/usr/local/lib/python3.6/dist-packages/matplotlib/patches.py\u001b[0m in \u001b[0;36mset_linewidth\u001b[0;34m(self, w)\u001b[0m\n\u001b[1;32m    393\u001b[0m                 \u001b[0mw\u001b[0m \u001b[0;34m=\u001b[0m \u001b[0mmpl\u001b[0m\u001b[0;34m.\u001b[0m\u001b[0mrcParams\u001b[0m\u001b[0;34m[\u001b[0m\u001b[0;34m'axes.linewidth'\u001b[0m\u001b[0;34m]\u001b[0m\u001b[0;34m\u001b[0m\u001b[0;34m\u001b[0m\u001b[0m\n\u001b[1;32m    394\u001b[0m \u001b[0;34m\u001b[0m\u001b[0m\n\u001b[0;32m--> 395\u001b[0;31m         \u001b[0mself\u001b[0m\u001b[0;34m.\u001b[0m\u001b[0m_linewidth\u001b[0m \u001b[0;34m=\u001b[0m \u001b[0mfloat\u001b[0m\u001b[0;34m(\u001b[0m\u001b[0mw\u001b[0m\u001b[0;34m)\u001b[0m\u001b[0;34m\u001b[0m\u001b[0;34m\u001b[0m\u001b[0m\n\u001b[0m\u001b[1;32m    396\u001b[0m         \u001b[0;31m# scale the dash pattern by the linewidth\u001b[0m\u001b[0;34m\u001b[0m\u001b[0;34m\u001b[0m\u001b[0;34m\u001b[0m\u001b[0m\n\u001b[1;32m    397\u001b[0m         \u001b[0moffset\u001b[0m\u001b[0;34m,\u001b[0m \u001b[0mls\u001b[0m \u001b[0;34m=\u001b[0m \u001b[0mself\u001b[0m\u001b[0;34m.\u001b[0m\u001b[0m_us_dashes\u001b[0m\u001b[0;34m\u001b[0m\u001b[0;34m\u001b[0m\u001b[0m\n",
            "\u001b[0;31mTypeError\u001b[0m: only size-1 arrays can be converted to Python scalars"
          ]
        },
        {
          "output_type": "display_data",
          "data": {
            "image/png": "[encoded data removed]",
            "text/plain": [
              "<Figure size 432x288 with 1 Axes>"
            ]
          },
          "metadata": {
            "tags": [],
            "needs_background": "light"
          }
        }
      ]
    },
    {
      "cell_type": "code",
      "metadata": {
        "id": "Crwk15mBCJdT",
        "colab_type": "code",
        "colab": {
          "base_uri": "https://localhost:8080/",
          "height": 421
        },
        "outputId": "3d535f23-1f4a-4814-f052-a9067a30fb49"
      },
      "source": [
        "\n",
        "monthly_cleaned.plot(kind='bar',);\n",
        "plt.xticks(rotation = 45)\n",
        "plt.title('MTG Sales By Month',)\n",
        "plt.yticks([0,1000,2000,3000,4000,5000,6000,7000,8000], ['0','$1000','$2000','$3000','$4000','$5000','$6000','$7000'],rotation = 45, c= 'G')\n",
        "\n",
        "plt.xlabel('Dates', c= 'K')\n",
        "plt.ylabel('Sales Amount in Dollars', color='G');\n"
      ],
      "execution_count": 31,
      "outputs": [
        {
          "output_type": "stream",
          "text": [
            "/usr/local/lib/python3.6/dist-packages/google/colab/_event_manager.py:28: MatplotlibDeprecationWarning: Support for uppercase single-letter colors is deprecated since Matplotlib 3.1 and will be removed in 3.3; please use lowercase instead.\n",
            "  func(*args, **kwargs)\n"
          ],
          "name": "stderr"
        },
        {
          "output_type": "display_data",
          "data": {
            "image/png": "[encoded data removed]",
            "text/plain": [
              "<Figure size 432x288 with 1 Axes>"
            ]
          },
          "metadata": {
            "tags": [],
            "needs_background": "light"
          }
        }
      ]
    },
    {
      "cell_type": "code",
      "metadata": {
        "id": "gL6nMf5KlrAX",
        "colab_type": "code",
        "colab": {}
      },
      "source": [
        ""
      ],
      "execution_count": 0,
      "outputs": []
    }
  ]
}